{
 "cells": [
  {
   "cell_type": "code",
   "execution_count": 1,
   "id": "ee6ab115",
   "metadata": {},
   "outputs": [],
   "source": [
    "from pinecone import Pinecone"
   ]
  },
  {
   "cell_type": "code",
   "execution_count": 1,
   "id": "7d89e2e8",
   "metadata": {},
   "outputs": [
    {
     "name": "stdout",
     "output_type": "stream",
     "text": [
      "Current PyTorch version: 2.7.0+cu118\n",
      "✅ PyTorch version is compatible\n"
     ]
    }
   ],
   "source": [
    "import torch\n",
    "print(f\"Current PyTorch version: {torch.__version__}\")\n",
    "\n",
    "# Check if you need to upgrade\n",
    "if torch.__version__ < \"2.6.0\":\n",
    "    print(\"⚠️ PyTorch version is too old. Please upgrade to 2.6.0 or later\")\n",
    "    print(\"Run: pip install torch>=2.6.0 torchvision torchaudio --index-url https://download.pytorch.org/whl/cu118\")\n",
    "else:\n",
    "    print(\"✅ PyTorch version is compatible\")"
   ]
  },
  {
   "cell_type": "code",
   "execution_count": 1,
   "id": "067acfee",
   "metadata": {},
   "outputs": [
    {
     "name": "stderr",
     "output_type": "stream",
     "text": [
      "c:\\Users\\isaac\\anaconda3\\envs\\ai\\lib\\site-packages\\tqdm\\auto.py:21: TqdmWarning: IProgress not found. Please update jupyter and ipywidgets. See https://ipywidgets.readthedocs.io/en/stable/user_install.html\n",
      "  from .autonotebook import tqdm as notebook_tqdm\n",
      "Using a slow image processor as `use_fast` is unset and a slow processor was saved with this model. `use_fast=True` will be the default behavior in v4.52, even if the model was saved with a slow processor. This will result in minor differences in outputs. You'll still be able to use a slow processor with `use_fast=False`.\n"
     ]
    },
    {
     "name": "stdout",
     "output_type": "stream",
     "text": [
      "🚀 Loading Image Captioner on cuda\n",
      "🎮 GPU: NVIDIA GeForce RTX 4080\n",
      "📥 Loading Salesforce/blip-image-captioning-base...\n",
      "🔥 Warming up...\n",
      "✅ Ready for captioning!\n"
     ]
    }
   ],
   "source": [
    "import torch\n",
    "import time\n",
    "import numpy as np\n",
    "from PIL import Image\n",
    "from transformers import ViTImageProcessor, ViTForImageClassification\n",
    "import matplotlib.pyplot as plt\n",
    "import requests\n",
    "from io import BytesIO\n",
    "from checkcheck import FastImageCaptioner\n",
    "\n",
    "captioner = FastImageCaptioner()"
   ]
  },
  {
   "cell_type": "code",
   "execution_count": 2,
   "id": "69b8f9c3",
   "metadata": {},
   "outputs": [
    {
     "name": "stderr",
     "output_type": "stream",
     "text": [
      "The following generation flags are not valid and may be ignored: ['early_stopping']. Set `TRANSFORMERS_VERBOSITY=info` for more details.\n"
     ]
    },
    {
     "name": "stdout",
     "output_type": "stream",
     "text": [
      "🔄 Captioning 3 images in batches of 16\n",
      "   Batch 1: 59.39ms per image\n",
      "\n",
      "📝 Captioning Results:\n",
      "   1. bus_1_1748446721005.jpg: 'a bus is seen in this surveillance image'\n",
      "   2. car_1_P_track_1_1748446754067.jpg: 'a car is seen in this surveillance image'\n",
      "   3. person_1_1748446721204.jpg: 'a man is seen in this surveillance image'\n",
      "\n",
      "📊 Performance Summary:\n",
      "   Average per image: 59.39ms\n",
      "   Throughput: 16.8 captions/second\n"
     ]
    }
   ],
   "source": [
    "# Single image captioning (lowest latency)\n",
    "\n",
    "# result = captioner.caption_single_image('test_image.jpg')\n",
    "# print(result['caption'])  # \"a brown dog sitting in a park\"\n",
    "\n",
    "# Batch captioning (highest throughput)  \n",
    "image_list = ['D:\\\\keep\\\\htx\\\\fast_search\\\\output_snapshots\\\\bus\\\\bus_1_1748446721005.jpg', 'D:\\\\keep\\\\htx\\\\fast_search\\\\output_snapshots\\\\car\\\\car_1_P_track_1_1748446754067.jpg', 'D:\\\\keep\\\\htx\\\\fast_search\\\\output_snapshots\\\\person\\\\person_1_1748446721204.jpg']\n",
    "results = captioner.caption_batch(image_list, batch_size=16)"
   ]
  },
  {
   "cell_type": "code",
   "execution_count": 3,
   "id": "316e4805",
   "metadata": {},
   "outputs": [
    {
     "name": "stdout",
     "output_type": "stream",
     "text": [
      "📁 Found 154 images in 'D:\\keep\\htx\\fast_search\\output_snapshots' and subdirectories\n",
      "📂 Subdirectories found: ['boat', 'bus', 'car', 'person', 'screenshots']\n",
      "\n",
      "📋 First few files:\n",
      "   1. boat_2_P_track_2_1748446755331.jpg (D:\\keep\\htx\\fast_search\\output_snapshots\\boat)\n",
      "   2. boat_2_P_track_2_1748446755331.jpg (D:\\keep\\htx\\fast_search\\output_snapshots\\boat)\n",
      "   3. bus_1_1748446721005.jpg (D:\\keep\\htx\\fast_search\\output_snapshots\\bus)\n",
      "   4. bus_1_track_23_1748446721434.jpg (D:\\keep\\htx\\fast_search\\output_snapshots\\bus)\n",
      "   5. bus_1_track_52_1748446728465.jpg (D:\\keep\\htx\\fast_search\\output_snapshots\\bus)\n",
      "   ... and 149 more files\n"
     ]
    }
   ],
   "source": [
    "import os\n",
    "import glob\n",
    "import json\n",
    "\n",
    "# Specify your directory here\n",
    "snapshots_dir = \"D:\\\\keep\\\\htx\\\\fast_search\\\\output_snapshots\"  # Change this to your directory path\n",
    "\n",
    "# Get all image files recursively from all subdirectories\n",
    "image_extensions = ['*.jpg', '*.jpeg', '*.png', '*.bmp', '*.tiff', '*.webp']\n",
    "\n",
    "image_files = []\n",
    "for root, dirs, files in os.walk(snapshots_dir):\n",
    "    for ext in image_extensions:\n",
    "        pattern = os.path.join(root, ext)\n",
    "        image_files.extend(glob.glob(pattern))\n",
    "        # Also check uppercase extensions\n",
    "        pattern_upper = os.path.join(root, ext.upper())\n",
    "        image_files.extend(glob.glob(pattern_upper))\n",
    "\n",
    "print(f\"📁 Found {len(image_files)} images in '{snapshots_dir}' and subdirectories\")\n",
    "print(f\"📂 Subdirectories found: {[d for d in os.listdir(snapshots_dir) if os.path.isdir(os.path.join(snapshots_dir, d))]}\")\n",
    "\n",
    "# Show first few files as preview\n",
    "if image_files:\n",
    "    print(\"\\n📋 First few files:\")\n",
    "    for i, file in enumerate(image_files[:5]):\n",
    "        print(f\"   {i+1}. {os.path.basename(file)} ({os.path.dirname(file)})\")\n",
    "    if len(image_files) > 5:\n",
    "        print(f\"   ... and {len(image_files) - 5} more files\")"
   ]
  },
  {
   "cell_type": "code",
   "execution_count": 4,
   "id": "6e141a41",
   "metadata": {},
   "outputs": [
    {
     "name": "stdout",
     "output_type": "stream",
     "text": [
      "🚀 Starting BATCH captioning process...\n",
      "🔄 Captioning 154 images in batches of 8\n"
     ]
    },
    {
     "name": "stderr",
     "output_type": "stream",
     "text": [
      "The following generation flags are not valid and may be ignored: ['early_stopping']. Set `TRANSFORMERS_VERBOSITY=info` for more details.\n",
      "The following generation flags are not valid and may be ignored: ['early_stopping']. Set `TRANSFORMERS_VERBOSITY=info` for more details.\n"
     ]
    },
    {
     "name": "stdout",
     "output_type": "stream",
     "text": [
      "   Batch 1: 62.03ms per image\n"
     ]
    },
    {
     "name": "stderr",
     "output_type": "stream",
     "text": [
      "The following generation flags are not valid and may be ignored: ['early_stopping']. Set `TRANSFORMERS_VERBOSITY=info` for more details.\n"
     ]
    },
    {
     "name": "stdout",
     "output_type": "stream",
     "text": [
      "   Batch 2: 25.78ms per image\n"
     ]
    },
    {
     "name": "stderr",
     "output_type": "stream",
     "text": [
      "The following generation flags are not valid and may be ignored: ['early_stopping']. Set `TRANSFORMERS_VERBOSITY=info` for more details.\n"
     ]
    },
    {
     "name": "stdout",
     "output_type": "stream",
     "text": [
      "   Batch 3: 24.73ms per image\n"
     ]
    },
    {
     "name": "stderr",
     "output_type": "stream",
     "text": [
      "The following generation flags are not valid and may be ignored: ['early_stopping']. Set `TRANSFORMERS_VERBOSITY=info` for more details.\n"
     ]
    },
    {
     "name": "stdout",
     "output_type": "stream",
     "text": [
      "   Batch 4: 23.82ms per image\n"
     ]
    },
    {
     "name": "stderr",
     "output_type": "stream",
     "text": [
      "The following generation flags are not valid and may be ignored: ['early_stopping']. Set `TRANSFORMERS_VERBOSITY=info` for more details.\n"
     ]
    },
    {
     "name": "stdout",
     "output_type": "stream",
     "text": [
      "   Batch 5: 24.14ms per image\n"
     ]
    },
    {
     "name": "stderr",
     "output_type": "stream",
     "text": [
      "The following generation flags are not valid and may be ignored: ['early_stopping']. Set `TRANSFORMERS_VERBOSITY=info` for more details.\n"
     ]
    },
    {
     "name": "stdout",
     "output_type": "stream",
     "text": [
      "   Batch 6: 26.94ms per image\n"
     ]
    },
    {
     "name": "stderr",
     "output_type": "stream",
     "text": [
      "The following generation flags are not valid and may be ignored: ['early_stopping']. Set `TRANSFORMERS_VERBOSITY=info` for more details.\n"
     ]
    },
    {
     "name": "stdout",
     "output_type": "stream",
     "text": [
      "   Batch 7: 28.75ms per image\n"
     ]
    },
    {
     "name": "stderr",
     "output_type": "stream",
     "text": [
      "The following generation flags are not valid and may be ignored: ['early_stopping']. Set `TRANSFORMERS_VERBOSITY=info` for more details.\n"
     ]
    },
    {
     "name": "stdout",
     "output_type": "stream",
     "text": [
      "   Batch 8: 25.25ms per image\n"
     ]
    },
    {
     "name": "stderr",
     "output_type": "stream",
     "text": [
      "The following generation flags are not valid and may be ignored: ['early_stopping']. Set `TRANSFORMERS_VERBOSITY=info` for more details.\n"
     ]
    },
    {
     "name": "stdout",
     "output_type": "stream",
     "text": [
      "   Batch 9: 23.51ms per image\n"
     ]
    },
    {
     "name": "stderr",
     "output_type": "stream",
     "text": [
      "The following generation flags are not valid and may be ignored: ['early_stopping']. Set `TRANSFORMERS_VERBOSITY=info` for more details.\n"
     ]
    },
    {
     "name": "stdout",
     "output_type": "stream",
     "text": [
      "   Batch 10: 26.25ms per image\n"
     ]
    },
    {
     "name": "stderr",
     "output_type": "stream",
     "text": [
      "The following generation flags are not valid and may be ignored: ['early_stopping']. Set `TRANSFORMERS_VERBOSITY=info` for more details.\n"
     ]
    },
    {
     "name": "stdout",
     "output_type": "stream",
     "text": [
      "   Batch 11: 26.70ms per image\n",
      "   Batch 12: 29.22ms per image\n"
     ]
    },
    {
     "name": "stderr",
     "output_type": "stream",
     "text": [
      "The following generation flags are not valid and may be ignored: ['early_stopping']. Set `TRANSFORMERS_VERBOSITY=info` for more details.\n"
     ]
    },
    {
     "name": "stdout",
     "output_type": "stream",
     "text": [
      "   Batch 13: 24.26ms per image\n"
     ]
    },
    {
     "name": "stderr",
     "output_type": "stream",
     "text": [
      "The following generation flags are not valid and may be ignored: ['early_stopping']. Set `TRANSFORMERS_VERBOSITY=info` for more details.\n"
     ]
    },
    {
     "name": "stdout",
     "output_type": "stream",
     "text": [
      "   Batch 14: 25.45ms per image\n"
     ]
    },
    {
     "name": "stderr",
     "output_type": "stream",
     "text": [
      "The following generation flags are not valid and may be ignored: ['early_stopping']. Set `TRANSFORMERS_VERBOSITY=info` for more details.\n"
     ]
    },
    {
     "name": "stdout",
     "output_type": "stream",
     "text": [
      "   Batch 15: 26.61ms per image\n"
     ]
    },
    {
     "name": "stderr",
     "output_type": "stream",
     "text": [
      "The following generation flags are not valid and may be ignored: ['early_stopping']. Set `TRANSFORMERS_VERBOSITY=info` for more details.\n"
     ]
    },
    {
     "name": "stdout",
     "output_type": "stream",
     "text": [
      "   Batch 16: 25.40ms per image\n"
     ]
    },
    {
     "name": "stderr",
     "output_type": "stream",
     "text": [
      "The following generation flags are not valid and may be ignored: ['early_stopping']. Set `TRANSFORMERS_VERBOSITY=info` for more details.\n",
      "The following generation flags are not valid and may be ignored: ['early_stopping']. Set `TRANSFORMERS_VERBOSITY=info` for more details.\n"
     ]
    },
    {
     "name": "stdout",
     "output_type": "stream",
     "text": [
      "   Batch 17: 29.26ms per image\n"
     ]
    },
    {
     "name": "stderr",
     "output_type": "stream",
     "text": [
      "The following generation flags are not valid and may be ignored: ['early_stopping']. Set `TRANSFORMERS_VERBOSITY=info` for more details.\n"
     ]
    },
    {
     "name": "stdout",
     "output_type": "stream",
     "text": [
      "   Batch 18: 24.82ms per image\n"
     ]
    },
    {
     "name": "stderr",
     "output_type": "stream",
     "text": [
      "The following generation flags are not valid and may be ignored: ['early_stopping']. Set `TRANSFORMERS_VERBOSITY=info` for more details.\n"
     ]
    },
    {
     "name": "stdout",
     "output_type": "stream",
     "text": [
      "   Batch 19: 23.83ms per image\n",
      "   Batch 20: 71.63ms per image\n",
      "\n",
      "📝 Captioning Results:\n",
      "   1. boat_2_P_track_2_1748446755331.jpg: 'surveillance video of a man in a gas station'\n",
      "   2. boat_2_P_track_2_1748446755331.jpg: 'surveillance video of a man in a gas station'\n",
      "   3. bus_1_1748446721005.jpg: 'a bus is seen in this surveillance image'\n",
      "   4. bus_1_track_23_1748446721434.jpg: 'a green bus is seen in this surveillance image'\n",
      "   5. bus_1_track_52_1748446728465.jpg: 'a bus is driving down the street in the city'\n",
      "   6. bus_1_1748446721005.jpg: 'a bus is seen in this surveillance image'\n",
      "   7. bus_1_track_23_1748446721434.jpg: 'a green bus is seen in this surveillance image'\n",
      "   8. bus_1_track_52_1748446728465.jpg: 'a bus is driving down the street in the city'\n",
      "   9. car_1_P_track_1_1748446754067.jpg: 'a car is seen in this surveillance image'\n",
      "   10. car_1_P_track_49_1748446754882.jpg: 'the suspect is seen in this surveillance photo'\n",
      "   11. car_1_P_track_50_1748446755048.jpg: 'a car is seen in this surveillance image'\n",
      "   12. car_1_P_track_1_1748446754067.jpg: 'a car is seen in this surveillance image'\n",
      "   13. car_1_P_track_49_1748446754882.jpg: 'the suspect is seen in this surveillance photo'\n",
      "   14. car_1_P_track_50_1748446755048.jpg: 'a car is seen in this surveillance image'\n",
      "   15. person_1_1748446721204.jpg: 'a man is seen in this surveillance image'\n",
      "   16. person_1_track_103_1748446746048.jpg: 'a man is seen in this surveillance image from the video'\n",
      "   17. person_1_track_107_1748446747133.jpg: 'a man is seen on the street in this surveillance image'\n",
      "   18. person_1_track_110_1748446747363.jpg: 'a man is seen in this surveillance image'\n",
      "   19. person_1_track_113_1748446748161.jpg: 'a group of people walking down a street'\n",
      "   20. person_1_track_115_1748446749117.jpg: 'a man is seen in this surveillance image'\n",
      "   21. person_1_track_116_1748446749355.jpg: 'a man is seen in this surveillance image'\n",
      "   22. person_1_track_120_1748446751303.jpg: 'a man is seen in this surveillance image'\n",
      "   23. person_1_track_124_1748446751429.jpg: 'a woman is seen in this surveillance image'\n",
      "   24. person_1_track_128_1748446751687.jpg: 'a man is seen in this surveillance image'\n",
      "   25. person_1_track_16_1748446719840.jpg: 'a man is seen in this surveillance image'\n",
      "   26. person_1_track_1_1748446717006.jpg: 'a man is seen in this surveillance image'\n",
      "   27. person_1_track_24_1748446721677.jpg: 'a woman in a yellow shirt is walking down the street'\n",
      "   28. person_1_track_25_1748446721678.jpg: 'a man is seen in this surveillance image'\n",
      "   29. person_1_track_28_1748446722045.jpg: 'a man is seen in this surveillance image from the fbi'\n",
      "   30. person_1_track_29_1748446722164.jpg: 'a man is seen in this surveillance image'\n",
      "   31. person_1_track_2_1748446717008.jpg: 'a man is riding a skateboard down the street'\n",
      "   32. person_1_track_31_1748446722328.jpg: 'a man is seen in this surveillance image'\n",
      "   33. person_1_track_32_1748446722448.jpg: 'a woman in a black dress'\n",
      "   34. person_1_track_34_1748446723162.jpg: 'a woman in a yellow shirt and black skirt'\n",
      "   35. person_1_track_35_1748446724237.jpg: 'a man is seen in this surveillance image'\n",
      "   36. person_1_track_38_1748446724357.jpg: 'a man is seen in this surveillance image'\n",
      "   37. person_1_track_3_1748446717384.jpg: 'a woman in a yellow dress'\n",
      "   38. person_1_track_42_1748446724846.jpg: 'a woman is seen in this surveillance image'\n",
      "   39. person_1_track_45_1748446725733.jpg: 'a man in a black shirt is seen in this surveillance image'\n",
      "   40. person_1_track_47_1748446726448.jpg: 'a man in a yellow shirt'\n",
      "   41. person_1_track_4_1748446718295.jpg: 'a woman in a black robe is seen in this surveillance image'\n",
      "   42. person_1_track_55_1748446729287.jpg: 'a man is seen in this surveillance image'\n",
      "   43. person_1_track_59_1748446730166.jpg: 'a man is seen in this surveillance image'\n",
      "   44. person_1_track_5_1748446718532.jpg: 'a man in a black robe is seen walking down the sidewalk'\n",
      "   45. person_1_track_69_1748446731117.jpg: 'a woman is seen walking down the street in this surveillance image'\n",
      "   46. person_1_track_77_1748446731873.jpg: 'a man is seen in this surveillance image'\n",
      "   47. person_1_track_83_1748446732373.jpg: 'a man is seen in this surveillance image'\n",
      "   48. person_1_track_88_1748446733740.jpg: 'a man in a red shirt and green shorts'\n",
      "   49. person_1_track_8_1748446719032.jpg: 'a man is seen in this surveillance image'\n",
      "   50. person_1_track_90_1748446735451.jpg: 'a woman is seen in this surveillance image'\n",
      "   51. person_1_track_91_1748446735589.jpg: 'a man in a yellow shirt is standing on the street'\n",
      "   52. person_1_track_97_1748446742819.jpg: 'a man is seen in this surveillance image'\n",
      "   53. person_2_P_track_1_1748446755331.jpg: 'a man in a white shirt and black pants is walking down the street'\n",
      "   54. person_2_P_track_3_1748446755516.jpg: 'a man in a white shirt and black pants is walking down the street'\n",
      "   55. person_2_P_track_4_1748446755572.jpg: 'a man is running on the street'\n",
      "   56. person_1_1748446721204.jpg: 'a man is seen in this surveillance image'\n",
      "   57. person_1_track_103_1748446746048.jpg: 'a man is seen in this surveillance image from the video'\n",
      "   58. person_1_track_107_1748446747133.jpg: 'a man is seen on the street in this surveillance image'\n",
      "   59. person_1_track_110_1748446747363.jpg: 'a man is seen in this surveillance image'\n",
      "   60. person_1_track_113_1748446748161.jpg: 'a group of people walking down a street'\n",
      "   61. person_1_track_115_1748446749117.jpg: 'a man is seen in this surveillance image'\n",
      "   62. person_1_track_116_1748446749355.jpg: 'a man is seen in this surveillance image'\n",
      "   63. person_1_track_120_1748446751303.jpg: 'a man is seen in this surveillance image'\n",
      "   64. person_1_track_124_1748446751429.jpg: 'a woman is seen in this surveillance image'\n",
      "   65. person_1_track_128_1748446751687.jpg: 'a man is seen in this surveillance image'\n",
      "   66. person_1_track_16_1748446719840.jpg: 'a man is seen in this surveillance image'\n",
      "   67. person_1_track_1_1748446717006.jpg: 'a man is seen in this surveillance image'\n",
      "   68. person_1_track_24_1748446721677.jpg: 'a woman in a yellow shirt is walking down the street'\n",
      "   69. person_1_track_25_1748446721678.jpg: 'a man is seen in this surveillance image'\n",
      "   70. person_1_track_28_1748446722045.jpg: 'a man is seen in this surveillance image from the fbi'\n",
      "   71. person_1_track_29_1748446722164.jpg: 'a man is seen in this surveillance image'\n",
      "   72. person_1_track_2_1748446717008.jpg: 'a man is riding a skateboard down the street'\n",
      "   73. person_1_track_31_1748446722328.jpg: 'a man is seen in this surveillance image'\n",
      "   74. person_1_track_32_1748446722448.jpg: 'a woman in a black dress'\n",
      "   75. person_1_track_34_1748446723162.jpg: 'a woman in a yellow shirt and black skirt'\n",
      "   76. person_1_track_35_1748446724237.jpg: 'a man is seen in this surveillance image'\n",
      "   77. person_1_track_38_1748446724357.jpg: 'a man is seen in this surveillance image'\n",
      "   78. person_1_track_3_1748446717384.jpg: 'a woman in a yellow dress'\n",
      "   79. person_1_track_42_1748446724846.jpg: 'a woman is seen in this surveillance image'\n",
      "   80. person_1_track_45_1748446725733.jpg: 'a man in a black shirt is seen in this surveillance image'\n",
      "   81. person_1_track_47_1748446726448.jpg: 'a man in a yellow shirt'\n",
      "   82. person_1_track_4_1748446718295.jpg: 'a woman in a black robe is seen in this surveillance image'\n",
      "   83. person_1_track_55_1748446729287.jpg: 'a man is seen in this surveillance image'\n",
      "   84. person_1_track_59_1748446730166.jpg: 'a man is seen in this surveillance image'\n",
      "   85. person_1_track_5_1748446718532.jpg: 'a man in a black robe is seen walking down the sidewalk'\n",
      "   86. person_1_track_69_1748446731117.jpg: 'a woman is seen walking down the street in this surveillance image'\n",
      "   87. person_1_track_77_1748446731873.jpg: 'a man is seen in this surveillance image'\n",
      "   88. person_1_track_83_1748446732373.jpg: 'a man is seen in this surveillance image'\n",
      "   89. person_1_track_88_1748446733740.jpg: 'a man in a red shirt and green shorts'\n",
      "   90. person_1_track_8_1748446719032.jpg: 'a man is seen in this surveillance image'\n",
      "   91. person_1_track_90_1748446735451.jpg: 'a woman is seen in this surveillance image'\n",
      "   92. person_1_track_91_1748446735589.jpg: 'a man in a yellow shirt is standing on the street'\n",
      "   93. person_1_track_97_1748446742819.jpg: 'a man is seen in this surveillance image'\n",
      "   94. person_2_P_track_1_1748446755331.jpg: 'a man in a white shirt and black pants is walking down the street'\n",
      "   95. person_2_P_track_3_1748446755516.jpg: 'a man in a white shirt and black pants is walking down the street'\n",
      "   96. person_2_P_track_4_1748446755572.jpg: 'a man is running on the street'\n",
      "   97. screenshot_frame_000001_1748446717008.jpg: 'a person is walking down the sidewalk at night'\n",
      "   98. screenshot_frame_000238_1748446718712.jpg: 'a man walking down a sidewalk next to a bus stop'\n",
      "   99. screenshot_frame_000476_1748446720478.jpg: 'a man standing on a sidewalk next to a bus stop'\n",
      "   100. screenshot_frame_000714_1748446722216.jpg: 'a man walking down a sidewalk next to a bus'\n",
      "   101. screenshot_frame_000952_1748446724004.jpg: 'a young boy is walking down the sidewalk'\n",
      "   102. screenshot_frame_001190_1748446725893.jpg: 'a bus is stopped at a bus stop'\n",
      "   103. screenshot_frame_001428_1748446727637.jpg: 'a green bus is parked at a bus stop'\n",
      "   104. screenshot_frame_001666_1748446729417.jpg: 'a bus is stopped at a bus stop'\n",
      "   105. screenshot_frame_001904_1748446731239.jpg: 'a woman walking down the sidewalk next to a bus'\n",
      "   106. screenshot_frame_002142_1748446733054.jpg: 'a person is waiting at a bus stop'\n",
      "   107. screenshot_frame_002380_1748446734938.jpg: 'a person is waiting at a bus stop'\n",
      "   108. screenshot_frame_002618_1748446737040.jpg: 'a man standing on a sidewalk next to a bus stop'\n",
      "   109. screenshot_frame_002856_1748446739043.jpg: 'a person is waiting at a bus stop'\n",
      "   110. screenshot_frame_003094_1748446741043.jpg: 'a bus stop with a bus stop and a bus stop'\n",
      "   111. screenshot_frame_003332_1748446743132.jpg: 'a bus stop with a bus on the road'\n",
      "   112. screenshot_frame_003570_1748446745099.jpg: 'a bus stop with a bus on the road'\n",
      "   113. screenshot_frame_003808_1748446746862.jpg: 'a group of people standing on a sidewalk'\n",
      "   114. screenshot_frame_004046_1748446748569.jpg: 'a woman is walking down the sidewalk at a bus stop'\n",
      "   115. screenshot_frame_004284_1748446750364.jpg: 'a woman is standing on the sidewalk next to a parking meter'\n",
      "   116. screenshot_frame_004522_1748446752251.jpg: 'a group of people walking down a street'\n",
      "   117. screenshot_frame_000001_1748446717008.jpg: 'a person is walking down the sidewalk at night'\n",
      "   118. screenshot_frame_000238_1748446718712.jpg: 'a man walking down a sidewalk next to a bus stop'\n",
      "   119. screenshot_frame_000476_1748446720478.jpg: 'a man standing on a sidewalk next to a bus stop'\n",
      "   120. screenshot_frame_000714_1748446722216.jpg: 'a man walking down a sidewalk next to a bus'\n",
      "   121. screenshot_frame_000952_1748446724004.jpg: 'a young boy is walking down the sidewalk'\n",
      "   122. screenshot_frame_001190_1748446725893.jpg: 'a bus is stopped at a bus stop'\n",
      "   123. screenshot_frame_001428_1748446727637.jpg: 'a green bus is parked at a bus stop'\n",
      "   124. screenshot_frame_001666_1748446729417.jpg: 'a bus is stopped at a bus stop'\n",
      "   125. screenshot_frame_001904_1748446731239.jpg: 'a woman walking down the sidewalk next to a bus'\n",
      "   126. screenshot_frame_002142_1748446733054.jpg: 'a person is waiting at a bus stop'\n",
      "   127. screenshot_frame_002380_1748446734938.jpg: 'a person is waiting at a bus stop'\n",
      "   128. screenshot_frame_002618_1748446737040.jpg: 'a man standing on a sidewalk next to a bus stop'\n",
      "   129. screenshot_frame_002856_1748446739043.jpg: 'a person is waiting at a bus stop'\n",
      "   130. screenshot_frame_003094_1748446741043.jpg: 'a bus stop with a bus stop and a bus stop'\n",
      "   131. screenshot_frame_003332_1748446743132.jpg: 'a bus stop with a bus on the road'\n",
      "   132. screenshot_frame_003570_1748446745099.jpg: 'a bus stop with a bus on the road'\n",
      "   133. screenshot_frame_003808_1748446746862.jpg: 'a group of people standing on a sidewalk'\n",
      "   134. screenshot_frame_004046_1748446748569.jpg: 'a woman is walking down the sidewalk at a bus stop'\n",
      "   135. screenshot_frame_004284_1748446750364.jpg: 'a woman is standing on the sidewalk next to a parking meter'\n",
      "   136. screenshot_frame_004522_1748446752251.jpg: 'a group of people walking down a street'\n",
      "   137. screenshot_frame_000001_1748446754067.jpg: 'a car is seen in this surveillance image'\n",
      "   138. screenshot_frame_000450_1748446754293.jpg: 'the surveillance camera shows the suspect in the parking lot'\n",
      "   139. screenshot_frame_000900_1748446754501.jpg: 'the surveillance camera shows a car parked in a parking lot'\n",
      "   140. screenshot_frame_001350_1748446754714.jpg: 'a surveillance camera shows a car parked in a parking lot'\n",
      "   141. screenshot_frame_001800_1748446754935.jpg: 'a car is seen in this surveillance image'\n",
      "   142. screenshot_frame_002250_1748446755135.jpg: 'a car is seen in this surveillance image'\n",
      "   143. screenshot_frame_000001_1748446754067.jpg: 'a car is seen in this surveillance image'\n",
      "   144. screenshot_frame_000450_1748446754293.jpg: 'the surveillance camera shows the suspect in the parking lot'\n",
      "   145. screenshot_frame_000900_1748446754501.jpg: 'the surveillance camera shows a car parked in a parking lot'\n",
      "   146. screenshot_frame_001350_1748446754714.jpg: 'a surveillance camera shows a car parked in a parking lot'\n",
      "   147. screenshot_frame_001800_1748446754935.jpg: 'a car is seen in this surveillance image'\n",
      "   148. screenshot_frame_002250_1748446755135.jpg: 'a car is seen in this surveillance image'\n",
      "   149. screenshot_frame_000001_1748446755297.jpg: 'a surveillance camera shows a man in a parking lot'\n",
      "   150. screenshot_frame_000450_1748446755472.jpg: 'surveillance video of a man in a gas station'\n",
      "   151. screenshot_frame_000900_1748446755653.jpg: 'a surveillance camera shows a man in a parking'\n",
      "   152. screenshot_frame_000001_1748446755297.jpg: 'a surveillance camera shows a man in a parking lot'\n",
      "   153. screenshot_frame_000450_1748446755472.jpg: 'surveillance video of a man in a gas station'\n",
      "   154. screenshot_frame_000900_1748446755653.jpg: 'a surveillance camera shows a man in a parking'\n",
      "\n",
      "📊 Performance Summary:\n",
      "   Average per image: 28.29ms\n",
      "   Throughput: 35.3 captions/second\n",
      "✅ boat_2_P_track_2_1748446755331.jpg: 'surveillance video of a man in a gas station...'\n",
      "✅ boat_2_P_track_2_1748446755331.jpg: 'surveillance video of a man in a gas station...'\n",
      "✅ bus_1_1748446721005.jpg: 'a bus is seen in this surveillance image...'\n",
      "✅ bus_1_track_23_1748446721434.jpg: 'a green bus is seen in this surveillance image...'\n",
      "✅ bus_1_track_52_1748446728465.jpg: 'a bus is driving down the street in the city...'\n",
      "✅ bus_1_1748446721005.jpg: 'a bus is seen in this surveillance image...'\n",
      "✅ bus_1_track_23_1748446721434.jpg: 'a green bus is seen in this surveillance image...'\n",
      "✅ bus_1_track_52_1748446728465.jpg: 'a bus is driving down the street in the city...'\n",
      "✅ car_1_P_track_1_1748446754067.jpg: 'a car is seen in this surveillance image...'\n",
      "✅ car_1_P_track_49_1748446754882.jpg: 'the suspect is seen in this surveillance photo...'\n",
      "✅ car_1_P_track_50_1748446755048.jpg: 'a car is seen in this surveillance image...'\n",
      "✅ car_1_P_track_1_1748446754067.jpg: 'a car is seen in this surveillance image...'\n",
      "✅ car_1_P_track_49_1748446754882.jpg: 'the suspect is seen in this surveillance photo...'\n",
      "✅ car_1_P_track_50_1748446755048.jpg: 'a car is seen in this surveillance image...'\n",
      "✅ person_1_1748446721204.jpg: 'a man is seen in this surveillance image...'\n",
      "✅ person_1_track_103_1748446746048.jpg: 'a man is seen in this surveillance image from the video...'\n",
      "✅ person_1_track_107_1748446747133.jpg: 'a man is seen on the street in this surveillance image...'\n",
      "✅ person_1_track_110_1748446747363.jpg: 'a man is seen in this surveillance image...'\n",
      "✅ person_1_track_113_1748446748161.jpg: 'a group of people walking down a street...'\n",
      "✅ person_1_track_115_1748446749117.jpg: 'a man is seen in this surveillance image...'\n",
      "✅ person_1_track_116_1748446749355.jpg: 'a man is seen in this surveillance image...'\n",
      "✅ person_1_track_120_1748446751303.jpg: 'a man is seen in this surveillance image...'\n",
      "✅ person_1_track_124_1748446751429.jpg: 'a woman is seen in this surveillance image...'\n",
      "✅ person_1_track_128_1748446751687.jpg: 'a man is seen in this surveillance image...'\n",
      "✅ person_1_track_16_1748446719840.jpg: 'a man is seen in this surveillance image...'\n",
      "✅ person_1_track_1_1748446717006.jpg: 'a man is seen in this surveillance image...'\n",
      "✅ person_1_track_24_1748446721677.jpg: 'a woman in a yellow shirt is walking down the street...'\n",
      "✅ person_1_track_25_1748446721678.jpg: 'a man is seen in this surveillance image...'\n",
      "✅ person_1_track_28_1748446722045.jpg: 'a man is seen in this surveillance image from the fbi...'\n",
      "✅ person_1_track_29_1748446722164.jpg: 'a man is seen in this surveillance image...'\n",
      "✅ person_1_track_2_1748446717008.jpg: 'a man is riding a skateboard down the street...'\n",
      "✅ person_1_track_31_1748446722328.jpg: 'a man is seen in this surveillance image...'\n",
      "✅ person_1_track_32_1748446722448.jpg: 'a woman in a black dress...'\n",
      "✅ person_1_track_34_1748446723162.jpg: 'a woman in a yellow shirt and black skirt...'\n",
      "✅ person_1_track_35_1748446724237.jpg: 'a man is seen in this surveillance image...'\n",
      "✅ person_1_track_38_1748446724357.jpg: 'a man is seen in this surveillance image...'\n",
      "✅ person_1_track_3_1748446717384.jpg: 'a woman in a yellow dress...'\n",
      "✅ person_1_track_42_1748446724846.jpg: 'a woman is seen in this surveillance image...'\n",
      "✅ person_1_track_45_1748446725733.jpg: 'a man in a black shirt is seen in this surveillance image...'\n",
      "✅ person_1_track_47_1748446726448.jpg: 'a man in a yellow shirt...'\n",
      "✅ person_1_track_4_1748446718295.jpg: 'a woman in a black robe is seen in this surveillance image...'\n",
      "✅ person_1_track_55_1748446729287.jpg: 'a man is seen in this surveillance image...'\n",
      "✅ person_1_track_59_1748446730166.jpg: 'a man is seen in this surveillance image...'\n",
      "✅ person_1_track_5_1748446718532.jpg: 'a man in a black robe is seen walking down the sidewalk...'\n",
      "✅ person_1_track_69_1748446731117.jpg: 'a woman is seen walking down the street in this surveillance...'\n",
      "✅ person_1_track_77_1748446731873.jpg: 'a man is seen in this surveillance image...'\n",
      "✅ person_1_track_83_1748446732373.jpg: 'a man is seen in this surveillance image...'\n",
      "✅ person_1_track_88_1748446733740.jpg: 'a man in a red shirt and green shorts...'\n",
      "✅ person_1_track_8_1748446719032.jpg: 'a man is seen in this surveillance image...'\n",
      "✅ person_1_track_90_1748446735451.jpg: 'a woman is seen in this surveillance image...'\n",
      "✅ person_1_track_91_1748446735589.jpg: 'a man in a yellow shirt is standing on the street...'\n",
      "✅ person_1_track_97_1748446742819.jpg: 'a man is seen in this surveillance image...'\n",
      "✅ person_2_P_track_1_1748446755331.jpg: 'a man in a white shirt and black pants is walking down the s...'\n",
      "✅ person_2_P_track_3_1748446755516.jpg: 'a man in a white shirt and black pants is walking down the s...'\n",
      "✅ person_2_P_track_4_1748446755572.jpg: 'a man is running on the street...'\n",
      "✅ person_1_1748446721204.jpg: 'a man is seen in this surveillance image...'\n",
      "✅ person_1_track_103_1748446746048.jpg: 'a man is seen in this surveillance image from the video...'\n",
      "✅ person_1_track_107_1748446747133.jpg: 'a man is seen on the street in this surveillance image...'\n",
      "✅ person_1_track_110_1748446747363.jpg: 'a man is seen in this surveillance image...'\n",
      "✅ person_1_track_113_1748446748161.jpg: 'a group of people walking down a street...'\n",
      "✅ person_1_track_115_1748446749117.jpg: 'a man is seen in this surveillance image...'\n",
      "✅ person_1_track_116_1748446749355.jpg: 'a man is seen in this surveillance image...'\n",
      "✅ person_1_track_120_1748446751303.jpg: 'a man is seen in this surveillance image...'\n",
      "✅ person_1_track_124_1748446751429.jpg: 'a woman is seen in this surveillance image...'\n",
      "✅ person_1_track_128_1748446751687.jpg: 'a man is seen in this surveillance image...'\n",
      "✅ person_1_track_16_1748446719840.jpg: 'a man is seen in this surveillance image...'\n",
      "✅ person_1_track_1_1748446717006.jpg: 'a man is seen in this surveillance image...'\n",
      "✅ person_1_track_24_1748446721677.jpg: 'a woman in a yellow shirt is walking down the street...'\n",
      "✅ person_1_track_25_1748446721678.jpg: 'a man is seen in this surveillance image...'\n",
      "✅ person_1_track_28_1748446722045.jpg: 'a man is seen in this surveillance image from the fbi...'\n",
      "✅ person_1_track_29_1748446722164.jpg: 'a man is seen in this surveillance image...'\n",
      "✅ person_1_track_2_1748446717008.jpg: 'a man is riding a skateboard down the street...'\n",
      "✅ person_1_track_31_1748446722328.jpg: 'a man is seen in this surveillance image...'\n",
      "✅ person_1_track_32_1748446722448.jpg: 'a woman in a black dress...'\n",
      "✅ person_1_track_34_1748446723162.jpg: 'a woman in a yellow shirt and black skirt...'\n",
      "✅ person_1_track_35_1748446724237.jpg: 'a man is seen in this surveillance image...'\n",
      "✅ person_1_track_38_1748446724357.jpg: 'a man is seen in this surveillance image...'\n",
      "✅ person_1_track_3_1748446717384.jpg: 'a woman in a yellow dress...'\n",
      "✅ person_1_track_42_1748446724846.jpg: 'a woman is seen in this surveillance image...'\n",
      "✅ person_1_track_45_1748446725733.jpg: 'a man in a black shirt is seen in this surveillance image...'\n",
      "✅ person_1_track_47_1748446726448.jpg: 'a man in a yellow shirt...'\n",
      "✅ person_1_track_4_1748446718295.jpg: 'a woman in a black robe is seen in this surveillance image...'\n",
      "✅ person_1_track_55_1748446729287.jpg: 'a man is seen in this surveillance image...'\n",
      "✅ person_1_track_59_1748446730166.jpg: 'a man is seen in this surveillance image...'\n",
      "✅ person_1_track_5_1748446718532.jpg: 'a man in a black robe is seen walking down the sidewalk...'\n",
      "✅ person_1_track_69_1748446731117.jpg: 'a woman is seen walking down the street in this surveillance...'\n",
      "✅ person_1_track_77_1748446731873.jpg: 'a man is seen in this surveillance image...'\n",
      "✅ person_1_track_83_1748446732373.jpg: 'a man is seen in this surveillance image...'\n",
      "✅ person_1_track_88_1748446733740.jpg: 'a man in a red shirt and green shorts...'\n",
      "✅ person_1_track_8_1748446719032.jpg: 'a man is seen in this surveillance image...'\n",
      "✅ person_1_track_90_1748446735451.jpg: 'a woman is seen in this surveillance image...'\n",
      "✅ person_1_track_91_1748446735589.jpg: 'a man in a yellow shirt is standing on the street...'\n",
      "✅ person_1_track_97_1748446742819.jpg: 'a man is seen in this surveillance image...'\n",
      "✅ person_2_P_track_1_1748446755331.jpg: 'a man in a white shirt and black pants is walking down the s...'\n",
      "✅ person_2_P_track_3_1748446755516.jpg: 'a man in a white shirt and black pants is walking down the s...'\n",
      "✅ person_2_P_track_4_1748446755572.jpg: 'a man is running on the street...'\n",
      "✅ screenshot_frame_000001_1748446717008.jpg: 'a person is walking down the sidewalk at night...'\n",
      "✅ screenshot_frame_000238_1748446718712.jpg: 'a man walking down a sidewalk next to a bus stop...'\n",
      "✅ screenshot_frame_000476_1748446720478.jpg: 'a man standing on a sidewalk next to a bus stop...'\n",
      "✅ screenshot_frame_000714_1748446722216.jpg: 'a man walking down a sidewalk next to a bus...'\n",
      "✅ screenshot_frame_000952_1748446724004.jpg: 'a young boy is walking down the sidewalk...'\n",
      "✅ screenshot_frame_001190_1748446725893.jpg: 'a bus is stopped at a bus stop...'\n",
      "✅ screenshot_frame_001428_1748446727637.jpg: 'a green bus is parked at a bus stop...'\n",
      "✅ screenshot_frame_001666_1748446729417.jpg: 'a bus is stopped at a bus stop...'\n",
      "✅ screenshot_frame_001904_1748446731239.jpg: 'a woman walking down the sidewalk next to a bus...'\n",
      "✅ screenshot_frame_002142_1748446733054.jpg: 'a person is waiting at a bus stop...'\n",
      "✅ screenshot_frame_002380_1748446734938.jpg: 'a person is waiting at a bus stop...'\n",
      "✅ screenshot_frame_002618_1748446737040.jpg: 'a man standing on a sidewalk next to a bus stop...'\n",
      "✅ screenshot_frame_002856_1748446739043.jpg: 'a person is waiting at a bus stop...'\n",
      "✅ screenshot_frame_003094_1748446741043.jpg: 'a bus stop with a bus stop and a bus stop...'\n",
      "✅ screenshot_frame_003332_1748446743132.jpg: 'a bus stop with a bus on the road...'\n",
      "✅ screenshot_frame_003570_1748446745099.jpg: 'a bus stop with a bus on the road...'\n",
      "✅ screenshot_frame_003808_1748446746862.jpg: 'a group of people standing on a sidewalk...'\n",
      "✅ screenshot_frame_004046_1748446748569.jpg: 'a woman is walking down the sidewalk at a bus stop...'\n",
      "✅ screenshot_frame_004284_1748446750364.jpg: 'a woman is standing on the sidewalk next to a parking meter...'\n",
      "✅ screenshot_frame_004522_1748446752251.jpg: 'a group of people walking down a street...'\n",
      "✅ screenshot_frame_000001_1748446717008.jpg: 'a person is walking down the sidewalk at night...'\n",
      "✅ screenshot_frame_000238_1748446718712.jpg: 'a man walking down a sidewalk next to a bus stop...'\n",
      "✅ screenshot_frame_000476_1748446720478.jpg: 'a man standing on a sidewalk next to a bus stop...'\n",
      "✅ screenshot_frame_000714_1748446722216.jpg: 'a man walking down a sidewalk next to a bus...'\n",
      "✅ screenshot_frame_000952_1748446724004.jpg: 'a young boy is walking down the sidewalk...'\n",
      "✅ screenshot_frame_001190_1748446725893.jpg: 'a bus is stopped at a bus stop...'\n",
      "✅ screenshot_frame_001428_1748446727637.jpg: 'a green bus is parked at a bus stop...'\n",
      "✅ screenshot_frame_001666_1748446729417.jpg: 'a bus is stopped at a bus stop...'\n",
      "✅ screenshot_frame_001904_1748446731239.jpg: 'a woman walking down the sidewalk next to a bus...'\n",
      "✅ screenshot_frame_002142_1748446733054.jpg: 'a person is waiting at a bus stop...'\n",
      "✅ screenshot_frame_002380_1748446734938.jpg: 'a person is waiting at a bus stop...'\n",
      "✅ screenshot_frame_002618_1748446737040.jpg: 'a man standing on a sidewalk next to a bus stop...'\n",
      "✅ screenshot_frame_002856_1748446739043.jpg: 'a person is waiting at a bus stop...'\n",
      "✅ screenshot_frame_003094_1748446741043.jpg: 'a bus stop with a bus stop and a bus stop...'\n",
      "✅ screenshot_frame_003332_1748446743132.jpg: 'a bus stop with a bus on the road...'\n",
      "✅ screenshot_frame_003570_1748446745099.jpg: 'a bus stop with a bus on the road...'\n",
      "✅ screenshot_frame_003808_1748446746862.jpg: 'a group of people standing on a sidewalk...'\n",
      "✅ screenshot_frame_004046_1748446748569.jpg: 'a woman is walking down the sidewalk at a bus stop...'\n",
      "✅ screenshot_frame_004284_1748446750364.jpg: 'a woman is standing on the sidewalk next to a parking meter...'\n",
      "✅ screenshot_frame_004522_1748446752251.jpg: 'a group of people walking down a street...'\n",
      "✅ screenshot_frame_000001_1748446754067.jpg: 'a car is seen in this surveillance image...'\n",
      "✅ screenshot_frame_000450_1748446754293.jpg: 'the surveillance camera shows the suspect in the parking lot...'\n",
      "✅ screenshot_frame_000900_1748446754501.jpg: 'the surveillance camera shows a car parked in a parking lot...'\n",
      "✅ screenshot_frame_001350_1748446754714.jpg: 'a surveillance camera shows a car parked in a parking lot...'\n",
      "✅ screenshot_frame_001800_1748446754935.jpg: 'a car is seen in this surveillance image...'\n",
      "✅ screenshot_frame_002250_1748446755135.jpg: 'a car is seen in this surveillance image...'\n",
      "✅ screenshot_frame_000001_1748446754067.jpg: 'a car is seen in this surveillance image...'\n",
      "✅ screenshot_frame_000450_1748446754293.jpg: 'the surveillance camera shows the suspect in the parking lot...'\n",
      "✅ screenshot_frame_000900_1748446754501.jpg: 'the surveillance camera shows a car parked in a parking lot...'\n",
      "✅ screenshot_frame_001350_1748446754714.jpg: 'a surveillance camera shows a car parked in a parking lot...'\n",
      "✅ screenshot_frame_001800_1748446754935.jpg: 'a car is seen in this surveillance image...'\n",
      "✅ screenshot_frame_002250_1748446755135.jpg: 'a car is seen in this surveillance image...'\n",
      "✅ screenshot_frame_000001_1748446755297.jpg: 'a surveillance camera shows a man in a parking lot...'\n",
      "✅ screenshot_frame_000450_1748446755472.jpg: 'surveillance video of a man in a gas station...'\n",
      "✅ screenshot_frame_000900_1748446755653.jpg: 'a surveillance camera shows a man in a parking...'\n",
      "✅ screenshot_frame_000001_1748446755297.jpg: 'a surveillance camera shows a man in a parking lot...'\n",
      "✅ screenshot_frame_000450_1748446755472.jpg: 'surveillance video of a man in a gas station...'\n",
      "✅ screenshot_frame_000900_1748446755653.jpg: 'a surveillance camera shows a man in a parking...'\n",
      "\n",
      "📊 Batch Captioning Complete!\n",
      "   Total images: 154\n",
      "   Average time per image: 28.29ms\n",
      "   Throughput: 35.3 images/second\n",
      "💾 Results saved to 'batch_captions.json'\n"
     ]
    }
   ],
   "source": [
    "# Alternative: Batch processing for maximum speed\n",
    "if len(image_files) > 0:\n",
    "    print(\"🚀 Starting BATCH captioning process...\")\n",
    "    \n",
    "    # Process in batches for maximum throughput\n",
    "    batch_results = captioner.caption_batch(image_files, batch_size=8)\n",
    "    \n",
    "    # Format results with filenames\n",
    "    formatted_results = []\n",
    "    for result in batch_results['results']:\n",
    "        formatted_result = {\n",
    "            'filename': os.path.basename(result['image_path']),\n",
    "            'full_path': result['image_path'],\n",
    "            'caption': result['caption'],\n",
    "            'batch_time_ms': result['batch_time_ms']\n",
    "        }\n",
    "        formatted_results.append(formatted_result)\n",
    "        \n",
    "        # Print each result\n",
    "        filename = os.path.basename(result['image_path'])\n",
    "        print(f\"✅ {filename}: '{result['caption'][:60]}...'\")\n",
    "    \n",
    "    # Statistics\n",
    "    print(f\"\\n📊 Batch Captioning Complete!\")\n",
    "    print(f\"   Total images: {len(formatted_results)}\")\n",
    "    print(f\"   Average time per image: {batch_results['avg_time_per_image_ms']:.2f}ms\")\n",
    "    print(f\"   Throughput: {batch_results['throughput_fps']:.1f} images/second\")\n",
    "    \n",
    "    # Save results\n",
    "    with open(\"batch_captions.json\", 'w', encoding='utf-8') as f:\n",
    "        json.dump(formatted_results, f, indent=2, ensure_ascii=False)\n",
    "    \n",
    "    print(\"💾 Results saved to 'batch_captions.json'\")"
   ]
  },
  {
   "cell_type": "code",
   "execution_count": 2,
   "id": "13d2894c",
   "metadata": {},
   "outputs": [
    {
     "name": "stderr",
     "output_type": "stream",
     "text": [
      "PhiForCausalLM has generative capabilities, as `prepare_inputs_for_generation` is explicitly defined. However, it doesn't directly inherit from `GenerationMixin`. From 👉v4.50👈 onwards, `PreTrainedModel` will NOT inherit from `GenerationMixin`, and this model will lose the ability to call `generate` and other related functions.\n",
      "  - If you're using `trust_remote_code=True`, you can get rid of this warning by loading the model with an auto class. See https://huggingface.co/docs/transformers/en/model_doc/auto#auto-classes\n",
      "  - If you are the owner of the model architecture code, please modify your model class such that it inherits from `GenerationMixin` (after `PreTrainedModel`, otherwise you'll get an exception).\n",
      "  - If you are not the owner of the model architecture class, please contact the model code owner to update it.\n"
     ]
    }
   ],
   "source": [
    "from transformers import AutoModelForCausalLM, AutoTokenizer\n",
    "from PIL import Image\n",
    "import torch\n",
    "# Moondream2 implementation\n",
    "model_id = \"vikhyatk/moondream2\"\n",
    "revision = \"2024-08-26\"\n",
    "\n",
    "model = AutoModelForCausalLM.from_pretrained(\n",
    "    model_id, \n",
    "    revision=revision,\n",
    "    trust_remote_code=True,\n",
    "    torch_dtype=torch.float16,\n",
    "    device_map=\"cuda:0\"\n",
    ")\n",
    "tokenizer = AutoTokenizer.from_pretrained(model_id, revision=revision)\n",
    "\n",
    "# Optimized inference\n",
    "def caption_with_moondream(image_path, question=\"Describe this image.\"):\n",
    "    image = Image.open(image_path)\n",
    "    enc_image = model.encode_image(image)\n",
    "    \n",
    "    return model.answer_question(enc_image, question, tokenizer)"
   ]
  },
  {
   "cell_type": "code",
   "execution_count": 2,
   "id": "892da93f",
   "metadata": {},
   "outputs": [
    {
     "name": "stderr",
     "output_type": "stream",
     "text": [
      "Fetching 5 files: 100%|██████████| 5/5 [02:38<00:00, 31.76s/it] \n",
      "\n",
      "Loading checkpoint shards: 100%|██████████| 5/5 [00:22<00:00,  4.54s/it]\n",
      "\n",
      "Using a slow image processor as `use_fast` is unset and a slow processor was saved with this model. `use_fast=True` will be the default behavior in v4.52, even if the model was saved with a slow processor. This will result in minor differences in outputs. You'll still be able to use a slow processor with `use_fast=False`.\n",
      "Using a slow image processor as `use_fast` is unset and a slow processor was saved with this model. `use_fast=True` will be the default behavior in v4.52, even if the model was saved with a slow processor. This will result in minor differences in outputs. You'll still be able to use a slow processor with `use_fast=False`.\n",
      "You have video processor config saved in `preprocessor.json` file which is deprecated. Video processor configs should be saved in their own `video_preprocessor.json` file. You can rename the file or load and save the processor back which renames it automatically. Loading from `preprocessor.json` will be removed in v5.0.\n",
      "You have video processor config saved in `preprocessor.json` file which is deprecated. Video processor configs should be saved in their own `video_preprocessor.json` file. You can rename the file or load and save the processor back which renames it automatically. Loading from `preprocessor.json` will be removed in v5.0.\n"
     ]
    }
   ],
   "source": [
    "from transformers import Qwen2VLForConditionalGeneration, AutoProcessor\n",
    "import torch\n",
    "from PIL import Image\n",
    "# Qwen2-VL optimized loading\n",
    "model = Qwen2VLForConditionalGeneration.from_pretrained(\n",
    "    \"Qwen/Qwen2-VL-7B-Instruct\",\n",
    "    torch_dtype=torch.float16,\n",
    "    device_map=\"cuda:0\"\n",
    ")\n",
    "processor = AutoProcessor.from_pretrained(\"Qwen/Qwen2-VL-7B-Instruct\")\n",
    "\n",
    "def qwen_inference(image, text_query):\n",
    "    messages = [\n",
    "        {\n",
    "            \"role\": \"user\",\n",
    "            \"content\": [\n",
    "                {\"type\": \"image\", \"image\": image},\n",
    "                {\"type\": \"text\", \"text\": text_query},\n",
    "            ],\n",
    "        }\n",
    "    ]\n",
    "    \n",
    "    text = processor.apply_chat_template(\n",
    "        messages, tokenize=False, add_generation_prompt=True\n",
    "    )\n",
    "    \n",
    "    inputs = processor(\n",
    "        text=[text], \n",
    "        images=[image], \n",
    "        return_tensors=\"pt\"\n",
    "    ).to(\"cuda:0\")\n",
    "    \n",
    "    with torch.inference_mode():\n",
    "        output = model.generate(**inputs, max_new_tokens=256)\n",
    "    \n",
    "    return processor.decode(output[0], skip_special_tokens=True)"
   ]
  },
  {
   "cell_type": "code",
   "execution_count": 4,
   "id": "b88a5485",
   "metadata": {},
   "outputs": [
    {
     "data": {
      "text/plain": [
       "'system\\nYou are a helpful assistant.\\nuser\\nwhat do you see in this image?\\nassistant\\nThis image shows a bus stop at night. There are several people waiting for the bus, and a few are standing on the sidewalk. The bus stop has a sign with bus route numbers and destinations. The road is visible on the left side of the image, and there are some traffic cones and barriers on the sidewalk. The timestamp on the image indicates it was taken on February 23, 2024, at 14:46.'"
      ]
     },
     "execution_count": 4,
     "metadata": {},
     "output_type": "execute_result"
    }
   ],
   "source": [
    "from PIL import Image\n",
    "\n",
    "image = Image.open(r\"D:\\keep\\htx\\fast_search\\output_snapshots\\screenshots\\screenshot_1_aa7d625f\\scene_frame4522_1749009793.jpg\")\n",
    "qwen_inference(image, \"what do you see in this image?\")"
   ]
  },
  {
   "cell_type": "code",
   "execution_count": 5,
   "id": "38c5e743",
   "metadata": {},
   "outputs": [
    {
     "data": {
      "text/plain": [
       "'system\\nYou are a helpful assistant.\\nuser\\nwhat do you see in this image?\\nassistant\\nThis image shows a bus stop at night. There are several people waiting for the bus, and a few are standing on the sidewalk. The bus stop has a sign with bus route numbers and destinations. The road is visible on the left side of the image, and there are some traffic cones and barriers on the sidewalk. The timestamp on the image indicates it was taken on February 23, 2024, at 14:46.'"
      ]
     },
     "execution_count": 5,
     "metadata": {},
     "output_type": "execute_result"
    }
   ],
   "source": [
    "qwen_inference(image, \"what do you see in this image?\")"
   ]
  },
  {
   "cell_type": "code",
   "execution_count": null,
   "id": "a7aac64d",
   "metadata": {},
   "outputs": [],
   "source": [
    "# Load model directly\n",
    "from transformers import AutoModelForCausalLM\n",
    "model = AutoModelForCausalLM.from_pretrained(\"unum-cloud/uform-gen\")"
   ]
  },
  {
   "cell_type": "code",
   "execution_count": 1,
   "id": "52c80763",
   "metadata": {},
   "outputs": [],
   "source": [
    "from pinecone import Pinecone"
   ]
  }
 ],
 "metadata": {
  "kernelspec": {
   "display_name": "pinecone",
   "language": "python",
   "name": "python3"
  },
  "language_info": {
   "codemirror_mode": {
    "name": "ipython",
    "version": 3
   },
   "file_extension": ".py",
   "mimetype": "text/x-python",
   "name": "python",
   "nbconvert_exporter": "python",
   "pygments_lexer": "ipython3",
   "version": "3.10.18"
  }
 },
 "nbformat": 4,
 "nbformat_minor": 5
}
